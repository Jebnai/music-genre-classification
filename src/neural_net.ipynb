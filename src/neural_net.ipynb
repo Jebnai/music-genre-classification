{
 "cells": [
  {
   "cell_type": "code",
   "execution_count": 1,
   "id": "cf36153b",
   "metadata": {},
   "outputs": [],
   "source": [
    "import os\n",
    "import cv2\n",
    "from tqdm import tqdm\n",
    "\n",
    "# Pytorch\n",
    "import torch\n",
    "\n",
    "import matplotlib.pyplot as plt\n",
    "import pandas as pd\n",
    "import numpy as np\n",
    "import seaborn as sns\n",
    "\n",
    "#device = torch.device('cuda:0' if torch.cuda.is_available() else 'cpu')\n",
    "device = torch.device('cpu')"
   ]
  },
  {
   "cell_type": "code",
   "execution_count": 2,
   "id": "1560023c",
   "metadata": {},
   "outputs": [
    {
     "name": "stdout",
     "output_type": "stream",
     "text": [
      "Data/images_original/blues\n"
     ]
    },
    {
     "name": "stderr",
     "output_type": "stream",
     "text": [
      "100%|███████████████████████████████████████████████████████████████████████████████| 100/100 [00:00<00:00, 511.00it/s]\n"
     ]
    },
    {
     "name": "stdout",
     "output_type": "stream",
     "text": [
      "Data/images_original/classical\n"
     ]
    },
    {
     "name": "stderr",
     "output_type": "stream",
     "text": [
      "100%|███████████████████████████████████████████████████████████████████████████████| 100/100 [00:00<00:00, 616.80it/s]\n"
     ]
    },
    {
     "name": "stdout",
     "output_type": "stream",
     "text": [
      "Data/images_original/country\n"
     ]
    },
    {
     "name": "stderr",
     "output_type": "stream",
     "text": [
      "100%|███████████████████████████████████████████████████████████████████████████████| 100/100 [00:00<00:00, 533.00it/s]\n"
     ]
    },
    {
     "name": "stdout",
     "output_type": "stream",
     "text": [
      "Data/images_original/disco\n"
     ]
    },
    {
     "name": "stderr",
     "output_type": "stream",
     "text": [
      "100%|███████████████████████████████████████████████████████████████████████████████| 100/100 [00:00<00:00, 507.44it/s]\n"
     ]
    },
    {
     "name": "stdout",
     "output_type": "stream",
     "text": [
      "Data/images_original/hiphop\n"
     ]
    },
    {
     "name": "stderr",
     "output_type": "stream",
     "text": [
      "100%|███████████████████████████████████████████████████████████████████████████████| 100/100 [00:00<00:00, 550.14it/s]\n"
     ]
    },
    {
     "name": "stdout",
     "output_type": "stream",
     "text": [
      "Data/images_original/jazz\n"
     ]
    },
    {
     "name": "stderr",
     "output_type": "stream",
     "text": [
      "100%|█████████████████████████████████████████████████████████████████████████████████| 99/99 [00:00<00:00, 578.80it/s]\n"
     ]
    },
    {
     "name": "stdout",
     "output_type": "stream",
     "text": [
      "Data/images_original/metal\n"
     ]
    },
    {
     "name": "stderr",
     "output_type": "stream",
     "text": [
      "100%|███████████████████████████████████████████████████████████████████████████████| 100/100 [00:00<00:00, 467.98it/s]\n"
     ]
    },
    {
     "name": "stdout",
     "output_type": "stream",
     "text": [
      "Data/images_original/pop\n"
     ]
    },
    {
     "name": "stderr",
     "output_type": "stream",
     "text": [
      "100%|███████████████████████████████████████████████████████████████████████████████| 100/100 [00:00<00:00, 530.47it/s]\n"
     ]
    },
    {
     "name": "stdout",
     "output_type": "stream",
     "text": [
      "Data/images_original/reggae\n"
     ]
    },
    {
     "name": "stderr",
     "output_type": "stream",
     "text": [
      "100%|███████████████████████████████████████████████████████████████████████████████| 100/100 [00:00<00:00, 571.23it/s]\n"
     ]
    },
    {
     "name": "stdout",
     "output_type": "stream",
     "text": [
      "Data/images_original/rock\n"
     ]
    },
    {
     "name": "stderr",
     "output_type": "stream",
     "text": [
      "100%|███████████████████████████████████████████████████████████████████████████████| 100/100 [00:00<00:00, 489.87it/s]\n",
      "C:\\Users\\Jenai\\anaconda3\\lib\\site-packages\\numpy\\core\\_asarray.py:136: VisibleDeprecationWarning: Creating an ndarray from ragged nested sequences (which is a list-or-tuple of lists-or-tuples-or ndarrays with different lengths or shapes) is deprecated. If you meant to do this, you must specify 'dtype=object' when creating the ndarray\n",
      "  return array(a, dtype, copy=False, order=order, subok=True)\n"
     ]
    },
    {
     "data": {
      "image/png": "[encoded data removed]",
      "text/plain": [
       "<Figure size 432x288 with 1 Axes>"
      ]
     },
     "metadata": {
      "needs_background": "light"
     },
     "output_type": "display_data"
    }
   ],
   "source": [
    "# spectrogram image of audio files for each genre\n",
    "image_size = 50\n",
    "class MusicGenre():\n",
    "    BLUES = \"Data/images_original/blues\"\n",
    "    CLASSICAL = \"Data/images_original/classical\"\n",
    "    COUNTRY = \"Data/images_original/country\"\n",
    "    DISCO = \"Data/images_original/disco\"\n",
    "    HIPHOP = \"Data/images_original/hiphop\"\n",
    "    JAZZ = \"Data/images_original/jazz\"\n",
    "    METAL = \"Data/images_original/metal\"\n",
    "    POP = \"Data/images_original/pop\"\n",
    "    REGGAE = \"Data/images_original/reggae\"\n",
    "    ROCK = \"Data/images_original/rock\"\n",
    "    LABELS = {BLUES: 0, CLASSICAL: 1, COUNTRY: 2, DISCO: 3, HIPHOP: 4, JAZZ: 5, METAL: 6, POP: 7, REGGAE: 8, ROCK: 9}\n",
    "    training_data = []\n",
    "    \n",
    "    \n",
    "    # preparing the training data\n",
    "    def build_training(self):\n",
    "        for label in self.LABELS:\n",
    "            print(label)\n",
    "            for file in tqdm(os.listdir(label)):\n",
    "                path = os.path.join(label, file)\n",
    "                image = cv2.imread(path)\n",
    "                image = cv2.resize(image, (image_size, image_size))\n",
    "                self.training_data.append([np.array(image), np.eye(10)[self.LABELS[label]]])\n",
    "                \n",
    "        # shuffling the training data\n",
    "        np.random.shuffle(self.training_data)\n",
    "        np.save(\"train_dt.npy\", self.training_data)\n",
    "        plt.imshow(self.training_data[1][0])\n",
    "        plt.show()\n",
    " \n",
    "musicgenre = MusicGenre()\n",
    "musicgenre.build_training()\n",
    "t_data = np.load(\"train_dt.npy\", allow_pickle=True)"
   ]
  },
  {
   "cell_type": "code",
   "execution_count": 145,
   "id": "c0b9d4d1",
   "metadata": {},
   "outputs": [
    {
     "name": "stdout",
     "output_type": "stream",
     "text": [
      "Net(\n",
      "  (conv1): Conv2d(3, 8, kernel_size=(3, 3), stride=(1, 1))\n",
      "  (conv2): Conv2d(8, 16, kernel_size=(3, 3), stride=(1, 1))\n",
      "  (conv3): Conv2d(16, 32, kernel_size=(3, 3), stride=(1, 1))\n",
      "  (conv4): Conv2d(32, 64, kernel_size=(3, 3), stride=(1, 1))\n",
      "  (fc1): Linear(in_features=64, out_features=512, bias=True)\n",
      "  (fc2): Linear(in_features=512, out_features=10, bias=True)\n",
      "  (dropout): Dropout(p=0.7, inplace=False)\n",
      ")\n"
     ]
    }
   ],
   "source": [
    "# Pytorch\n",
    "import torch\n",
    "import torch.nn as nn\n",
    "import torch.nn.functional as F\n",
    "\n",
    "# convolutional neural network\n",
    "class Net(nn.Module):\n",
    "    def __init__(self):\n",
    "        super().__init__()\n",
    "        # 4 convolutional layers\n",
    "        self.conv1 = nn.Conv2d(3, 8, 3)\n",
    "        self.conv2 = nn.Conv2d(8, 16, 3)\n",
    "        self.conv3 = nn.Conv2d(16, 32, 3)\n",
    "        self.conv4 = nn.Conv2d(32, 64, 3)\n",
    "        \n",
    "        # dense (linear) layers\n",
    "        self.fc1 = nn.Linear(64, 512)\n",
    "        self.fc2 = nn.Linear(512, 10) # 512 in, 10 out (10 classes)\n",
    "        self.dropout = nn.Dropout(p=0.7)\n",
    "    \n",
    "    def forward(self, x):\n",
    "        x = F.max_pool2d(F.relu(self.conv1(x)), kernel_size=2)\n",
    "        x = F.max_pool2d(F.relu(self.conv2(x)), kernel_size=2)\n",
    "        x = F.max_pool2d(F.relu(self.conv3(x)), kernel_size=2)\n",
    "        x = F.max_pool2d(F.relu(self.conv4(x)), kernel_size=2)\n",
    "        x = torch.flatten(x, 1)\n",
    "        x = F.relu(self.fc1(x))\n",
    "        x = self.fc2(x)\n",
    "    \n",
    "        return F.softmax(x, dim=1) # normalise output applied to multiclass to get target class probabilities\n",
    "\n",
    "net = Net().to(device)\n",
    "print(net)"
   ]
  },
  {
   "cell_type": "code",
   "execution_count": 138,
   "id": "cea4d2e3",
   "metadata": {},
   "outputs": [],
   "source": [
    "import torch.optim as optim\n",
    "\n",
    "#loss: measure of how wrong the model is\n",
    "#optimiser: adjust weights based on the loss\n",
    "optimizer = optim.Adam(net.parameters(), lr=0.001)\n",
    "citeration = nn.MSELoss()"
   ]
  },
  {
   "cell_type": "code",
   "execution_count": 139,
   "id": "a588f099",
   "metadata": {},
   "outputs": [
    {
     "name": "stdout",
     "output_type": "stream",
     "text": [
      "Validation size:  99\n"
     ]
    }
   ],
   "source": [
    "# making the training/testing split\n",
    "X = torch.Tensor([i[0] for i in t_data]).view(-1,3,  image_size, image_size)\n",
    "y = torch.Tensor([i[1] for i in t_data])\n",
    "\n",
    "validation_size = int(len(X)*0.1)\n",
    "print(\"Validation size: \", validation_size)\n",
    "\n",
    "train_X = X[:-validation_size]\n",
    "train_y = y[:-validation_size]\n",
    "\n",
    "test_X = X[-validation_size:]\n",
    "test_y = y[-validation_size:]"
   ]
  },
  {
   "cell_type": "code",
   "execution_count": 140,
   "id": "9938620c",
   "metadata": {},
   "outputs": [
    {
     "name": "stdout",
     "output_type": "stream",
     "text": [
      "0.03125 tensor(0.1429, grad_fn=<MseLossBackward0>)\n"
     ]
    }
   ],
   "source": [
    "def eval_pairs(out, y, pairs):\n",
    "    for i, j in zip(out, y):\n",
    "        pairs = pairs + [torch.argmax(i) == torch.argmax(j)]\n",
    "    return pairs\n",
    "\n",
    "def forward_propagation(X, y, train=False):\n",
    "    pairs = []\n",
    "    if train:\n",
    "        optimizer.zero_grad() # zero the parameter gradients\n",
    "    out = net(X)\n",
    "    pairs = eval_pairs(out, y, pairs)\n",
    "    accuracy = pairs.count(True)/len(pairs)\n",
    "    loss = citeration(out, y) # get the loss\n",
    "    if train:\n",
    "        loss.backward() # calculate gradients\n",
    "        optimizer.step() # update weights\n",
    "    return accuracy, loss\n",
    "    \n",
    "def test_model(size=32):\n",
    "    X, y = test_X[:size], test_y[:size]\n",
    "    #with torch.no_grad():\n",
    "    validation_acc, validation_loss = forward_propagation(X.view(-1, 3, 50, 50), y)\n",
    "    return validation_acc, validation_loss\n",
    "\n",
    "validation_acc, validation_loss = test_model()\n",
    "print(validation_acc, validation_loss)\n",
    "#forward_pass(X, y)"
   ]
  },
  {
   "cell_type": "code",
   "execution_count": 144,
   "id": "01b4bd7d",
   "metadata": {},
   "outputs": [
    {
     "name": "stderr",
     "output_type": "stream",
     "text": [
      "100%|██████████████████████████████████████████████████████████████████████████████████| 29/29 [00:00<00:00, 88.67it/s]\n",
      "100%|██████████████████████████████████████████████████████████████████████████████████| 29/29 [00:00<00:00, 85.78it/s]\n",
      "100%|██████████████████████████████████████████████████████████████████████████████████| 29/29 [00:00<00:00, 83.08it/s]\n",
      "100%|██████████████████████████████████████████████████████████████████████████████████| 29/29 [00:00<00:00, 82.61it/s]\n",
      "100%|██████████████████████████████████████████████████████████████████████████████████| 29/29 [00:00<00:00, 85.03it/s]\n",
      "100%|██████████████████████████████████████████████████████████████████████████████████| 29/29 [00:00<00:00, 86.81it/s]\n",
      "100%|██████████████████████████████████████████████████████████████████████████████████| 29/29 [00:00<00:00, 88.53it/s]\n",
      "100%|██████████████████████████████████████████████████████████████████████████████████| 29/29 [00:00<00:00, 84.04it/s]\n",
      "100%|██████████████████████████████████████████████████████████████████████████████████| 29/29 [00:00<00:00, 87.86it/s]\n",
      "100%|██████████████████████████████████████████████████████████████████████████████████| 29/29 [00:00<00:00, 84.90it/s]\n"
     ]
    }
   ],
   "source": [
    "import time\n",
    "\n",
    "m_name = \"Model-\" + str(int(time.time())) # makes the model name dynamic by using current time\n",
    "\n",
    "net = Net().to(device)\n",
    "optimizer = optim.Adam(net.parameters(), lr = 0.001)\n",
    "\n",
    "\n",
    "def write_values(acc, loss, v_acc, v_loss):\n",
    "    return m_name, str(round(time.time(), 3)), str(round(float(acc), 2)), str(round(float(loss), 4)), str(round(float(v_acc), 2)), str(round(float(v_loss), 4))\n",
    "\n",
    "def train_model():\n",
    "    batch = 32\n",
    "    start = True\n",
    "    with open(\"m.csv\", \"a\") as infile:\n",
    "        for epoch in range(10):\n",
    "            for i in tqdm(range(0, len(train_X), batch)):\n",
    "                # get the inputs in batches\n",
    "                batch_X = train_X[i: i+batch].view(-1, 3, image_size, image_size)\n",
    "                batch_y = train_y[i: i+batch]\n",
    "                batch_X, batch_y = batch_X.to(device), batch_y.to(device)\n",
    "                accuracy, loss = forward_propagation(batch_X, batch_y, train=True)\n",
    "                if start:\n",
    "                    infile.truncate(0)\n",
    "                    start = False\n",
    "                if i % 50 == 0:\n",
    "                    validation_acc, validation_loss = test_model(size=100)\n",
    "                    infile.write(','.join(write_values(accuracy, loss, validation_acc, validation_loss)))\n",
    "                    infile.write(\"\\n\")\n",
    "                                                                                                        \n",
    "                                                                                                                                                      \n",
    "train_model()"
   ]
  },
  {
   "cell_type": "code",
   "execution_count": 143,
   "id": "6a5bf574",
   "metadata": {},
   "outputs": [
    {
     "data": {
      "image/png": "[encoded data removed]",
      "text/plain": [
       "<Figure size 432x288 with 2 Axes>"
      ]
     },
     "metadata": {
      "needs_background": "light"
     },
     "output_type": "display_data"
    }
   ],
   "source": [
    "def create_acc_graph():\n",
    "    data = pd.read_csv(\"m.csv\")\n",
    "    tstamp = data.iloc[:, 1].tolist()\n",
    "    acc = data.iloc[:, 2].tolist()\n",
    "    loss = data.iloc[:, 3].tolist()\n",
    "    v_acc = data.iloc[:, 4].tolist()\n",
    "    v_loss = data.iloc[:, 5].tolist()\n",
    "    \n",
    "    fig = plt.figure()\n",
    "    axis1 = plt.subplot2grid((2, 1), (0, 0))\n",
    "    axis2 = plt.subplot2grid((2, 1), (1, 0), sharex=axis1)\n",
    "    axis1.plot(tstamp, acc, label=\"accuracy\")\n",
    "    axis1.plot(tstamp, v_acc, label=\"validation accuracy\")\n",
    "    axis1.legend(loc=2)\n",
    "    axis2.plot(tstamp, loss, label=\"loss\")\n",
    "    axis2.plot(tstamp, v_loss, label=\"validation loss\")\n",
    "    axis2.legend(loc=2)\n",
    "    plt.show()\n",
    "    \n",
    "    \n",
    "create_acc_graph()"
   ]
  },
  {
   "cell_type": "code",
   "execution_count": null,
   "id": "66a8b45e",
   "metadata": {},
   "outputs": [],
   "source": []
  }
 ],
 "metadata": {
  "kernelspec": {
   "display_name": "Python 3 (ipykernel)",
   "language": "python",
   "name": "python3"
  },
  "language_info": {
   "codemirror_mode": {
    "name": "ipython",
    "version": 3
   },
   "file_extension": ".py",
   "mimetype": "text/x-python",
   "name": "python",
   "nbconvert_exporter": "python",
   "pygments_lexer": "ipython3",
   "version": "3.8.8"
  }
 },
 "nbformat": 4,
 "nbformat_minor": 5
}
